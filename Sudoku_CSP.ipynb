{
 "cells": [
  {
   "cell_type": "code",
   "execution_count": 10,
   "id": "5ba707b1",
   "metadata": {},
   "outputs": [],
   "source": [
    "# function used in AIMA book code\n",
    "def flatten(seqs):\n",
    "    return sum(seqs, [])"
   ]
  },
  {
   "cell_type": "code",
   "execution_count": 11,
   "id": "12ff1fae",
   "metadata": {},
   "outputs": [],
   "source": [
    "def is_valid(grid, row, col, num):\n",
    "    # create lists for rows, cols, boxes\n",
    "    rows = flatten([list(map(flatten, brow)) for brow in grid])\n",
    "    cols = [list(col) for col in zip(*rows)]\n",
    "    boxes = flatten([list(map(flatten, zip(*brow))) for brow in grid])\n",
    "    # create box index\n",
    "    # (3 x row block number) + column block number\n",
    "    # block: 3 rows or cols together\n",
    "    box = (3*(row//3))+(col//3)\n",
    "    # check if num is already used in the row\n",
    "    for i in range(9):\n",
    "        if rows[row][i] == num:\n",
    "            return False\n",
    "    # check if num is already used in the column\n",
    "    for i in range(9):\n",
    "        if cols[col][i] == num:\n",
    "            return False\n",
    "    # check if num is already used in the 3x3 box\n",
    "    for i in range(9):\n",
    "        if boxes[box][i] == num:\n",
    "            return False\n",
    "    return True"
   ]
  },
  {
   "cell_type": "code",
   "execution_count": 12,
   "id": "cc51a6da",
   "metadata": {},
   "outputs": [],
   "source": [
    "def find_empty_space(grid):\n",
    "    # create list of rows\n",
    "    rows = flatten([list(map(flatten, brow)) for brow in grid])\n",
    "    # for each row and col if cell = 0 return cell coordinates\n",
    "    for row in range(9):\n",
    "        for col in range(9):\n",
    "            if rows[row][col] == 0:\n",
    "                return row, col\n",
    "    return None"
   ]
  },
  {
   "cell_type": "code",
   "execution_count": 40,
   "id": "e160c5fb",
   "metadata": {},
   "outputs": [],
   "source": [
    "def backtracking(grid, counter=0, backtrack_counter=0):\n",
    "    # find first empty cell\n",
    "    empty_cell = find_empty_space(grid)\n",
    "    # if there are no empty cells left, the puzzle is solved\n",
    "    if empty_cell is None:  \n",
    "        print('cell assignments: ',counter)\n",
    "        print('num of backtracks: ',backtrack_counter)\n",
    "        return grid\n",
    "    else:\n",
    "        # coordinates of empty cell\n",
    "        row, col = empty_cell\n",
    "        # find row and col block of empty cell\n",
    "        row_block = row // 3\n",
    "        col_block = col // 3\n",
    "        # for each number in domain (1-9)\n",
    "        for num in range(1, 10):\n",
    "            # if the number fits in coordinates\n",
    "            if is_valid(grid, row, col, num):\n",
    "                # cell = num\n",
    "                counter += 1\n",
    "                grid[row_block][row % 3][col_block][col % 3] = num\n",
    "                # recursively call solve with the updated grid\n",
    "                result = backtracking(grid, counter, backtrack_counter)\n",
    "                if result is not None:\n",
    "                    return result\n",
    "                # if not valid (backtrack) set cell to 0\n",
    "                grid[row_block][row % 3][col_block][col % 3] = 0\n",
    "                backtrack_counter += 1\n",
    "    # if no solution is found return none -> goes to above line (set cell to 0)\n",
    "    return None"
   ]
  },
  {
   "cell_type": "code",
   "execution_count": 31,
   "id": "143159af",
   "metadata": {},
   "outputs": [],
   "source": [
    "# to convert input string into grid\n",
    "def string_to_grid(puzzle_str):\n",
    "    # empty grid to fill in \n",
    "    grid = [\n",
    "        [[[0,0,0],[0,0,0],[0,0,0]],\n",
    "        [[0,0,0],[0,0,0],[0,0,0]],\n",
    "        [[0,0,0],[0,0,0],[0,0,0]]],\n",
    "        [[[0,0,0],[0,0,0],[0,0,0]],\n",
    "        [[0,0,0],[0,0,0],[0,0,0]],\n",
    "        [[0,0,0],[0,0,0],[0,0,0]]],\n",
    "        [[[0,0,0],[0,0,0],[0,0,0]],\n",
    "        [[0,0,0],[0,0,0],[0,0,0]],\n",
    "        [[0,0,0],[0,0,0],[0,0,0]]]]\n",
    "\n",
    "    for rowblock in range(3):\n",
    "        for row in range(3):\n",
    "            for triple in range(3):\n",
    "                for cell in range(3):\n",
    "                    rown = (rowblock*3)+row\n",
    "                    coln = (triple*3)+cell\n",
    "                    celln = rown*9+coln\n",
    "                    value = puzzle_str[celln]\n",
    "                    if value == '.':\n",
    "                        value = 0\n",
    "                    else:\n",
    "                        value = int(value)\n",
    "                    grid[rowblock][row][triple][cell] = value\n",
    "    return grid"
   ]
  },
  {
   "cell_type": "code",
   "execution_count": null,
   "id": "73803d94",
   "metadata": {},
   "outputs": [],
   "source": [
    "# AC-3 algorithm"
   ]
  },
  {
   "cell_type": "code",
   "execution_count": 347,
   "id": "54f18f88",
   "metadata": {},
   "outputs": [],
   "source": [
    "def create_grid():\n",
    "    # create sudoku grid with coordinates\n",
    "    coords = []\n",
    "    for r in range(9):\n",
    "        for c in range(9):\n",
    "            coords += [(r,c)]\n",
    "\n",
    "    coord_grid = [\n",
    "        [[[0,0,0],[0,0,0],[0,0,0]],\n",
    "        [[0,0,0],[0,0,0],[0,0,0]],\n",
    "        [[0,0,0],[0,0,0],[0,0,0]]],\n",
    "        [[[0,0,0],[0,0,0],[0,0,0]],\n",
    "        [[0,0,0],[0,0,0],[0,0,0]],\n",
    "        [[0,0,0],[0,0,0],[0,0,0]]],\n",
    "        [[[0,0,0],[0,0,0],[0,0,0]],\n",
    "        [[0,0,0],[0,0,0],[0,0,0]],\n",
    "        [[0,0,0],[0,0,0],[0,0,0]]]]\n",
    "\n",
    "    for rowblock in range(3):\n",
    "        for row in range(3):\n",
    "            for triple in range(3):\n",
    "                for cell in range(3):\n",
    "                    rown = (rowblock*3)+row\n",
    "                    coln = (triple*3)+cell\n",
    "                    celln = rown*9+coln\n",
    "                    coord_grid[rowblock][row][triple][cell] = coords[celln]\n",
    "    return coord_grid"
   ]
  },
  {
   "cell_type": "code",
   "execution_count": 348,
   "id": "e36444c5",
   "metadata": {},
   "outputs": [],
   "source": [
    "def create_constraints():\n",
    "    # creates list of basic sudoku constraints\n",
    "    # all cells in same rows must be different\n",
    "    # all cells in same columns must be different\n",
    "    # all cells in same boxes must be different\n",
    "    \n",
    "    coord_grid = create_grid()\n",
    "\n",
    "    # create lists for rows, cols, boxes\n",
    "    rows_coord = flatten([list(map(flatten, brow)) for brow in coord_grid])\n",
    "    cols_coord = [list(col) for col in zip(*rows_coord)]\n",
    "    boxes_coord = flatten([list(map(flatten, zip(*brow))) for brow in coord_grid])\n",
    "\n",
    "    # create constraints\n",
    "    \n",
    "    row_constraints = {}\n",
    "    for row in rows_coord:\n",
    "        for i in range(9):\n",
    "            for j in range(i+1, 9):\n",
    "                coord1 = f\"{row[i]}\"\n",
    "                coord2 = f\"{row[j]}\"\n",
    "                row_constraints[(coord1, coord2)] = lambda x, y: x != y\n",
    "                row_constraints[(coord2, coord1)] = lambda x, y: x != y\n",
    "\n",
    "    col_constraints = {}\n",
    "    for col in cols_coord:\n",
    "        for i in range(9):\n",
    "            for j in range(i+1, 9):\n",
    "                coord1 = f\"{col[i]}\"\n",
    "                coord2 = f\"{col[j]}\"\n",
    "                col_constraints[(coord1, coord2)] = lambda x, y: x != y\n",
    "                col_constraints[(coord2, coord1)] = lambda x, y: x != y\n",
    "\n",
    "\n",
    "    box_constraints = {}\n",
    "    for box in boxes_coord:\n",
    "        for i in range(9):\n",
    "            for j in range(i+1, 9):\n",
    "                coord1 = f\"{box[i]}\"\n",
    "                coord2 = f\"{box[j]}\"\n",
    "                box_constraints[(coord1, coord2)] = lambda x, y: x != y\n",
    "                box_constraints[(coord2, coord1)] = lambda x, y: x != y\n",
    "\n",
    "    constraints = {}\n",
    "    constraints.update(row_constraints)\n",
    "    constraints.update(col_constraints)\n",
    "    constraints.update(box_constraints)\n",
    "    return constraints"
   ]
  },
  {
   "cell_type": "code",
   "execution_count": 349,
   "id": "84f586ce",
   "metadata": {},
   "outputs": [],
   "source": [
    "def create_domains(grid):\n",
    "    # create domains for all cells\n",
    "    # any empty cell will have a domain of 1,2,3,4,5,6,7,8,9\n",
    "    # any cell that has a value will have a domain of that value\n",
    "    domains = {}\n",
    "    rows = flatten([list(map(flatten, brow)) for brow in grid])\n",
    "\n",
    "    for ir, r in enumerate(rows):\n",
    "        for ic, value in enumerate(r):\n",
    "            if value == 0:\n",
    "                coord = f\"({ir}, {ic})\"\n",
    "                domains[coord] = {1, 2, 3, 4, 5, 6, 7, 8, 9}\n",
    "            else:\n",
    "                coord = f\"({ir}, {ic})\"\n",
    "                domains[coord] = {value}\n",
    "    return domains"
   ]
  },
  {
   "cell_type": "code",
   "execution_count": 392,
   "id": "0d1eeb2a",
   "metadata": {},
   "outputs": [],
   "source": [
    "def ac3(constraints, domains):\n",
    "    # keep looping until the domains stop changing\n",
    "    d2 = {}\n",
    "    d = domains.copy()\n",
    "    while d2 != d:\n",
    "        d = domains.copy()\n",
    "        # queue = list of each paid or coordinates in the constraints\n",
    "        queue = list(constraints.keys())\n",
    "        while queue:\n",
    "            # each pair of coordinates in constraints\n",
    "            (xi, xj) = queue.pop(0)\n",
    "            # for each num x in domain of xi (first coordinate)\n",
    "            # if x doesnt fit with any of the nums (y) in xj's (2nd coord) domain\n",
    "            # remove x from xi\n",
    "            for x in domains[xi].copy():\n",
    "                if not any(constraints[(xi,xj)](x, y) for y in domains[xj]):\n",
    "                    domains[xi].remove(x)\n",
    "                    d2 = domains.copy()\n",
    "    return domains"
   ]
  },
  {
   "cell_type": "code",
   "execution_count": 384,
   "id": "7baa4cd6",
   "metadata": {},
   "outputs": [],
   "source": [
    "def domain_to_grid(ac3):\n",
    "    coord_grid = create_grid()\n",
    "    for i in range(3):\n",
    "        for j in range(len(coord_grid[i])):\n",
    "            for k in range(len(coord_grid[i][j])):\n",
    "                for z in range(len(coord_grid[i][j][k])):\n",
    "                    coord = coord_grid[i][j][k][z]\n",
    "                    value = ac3[str(coord)] # domain of coordinate\n",
    "                    coord_grid[i][j][k][z] = list(value)[0] # first item in domain\n",
    "    return coord_grid"
   ]
  },
  {
   "cell_type": "markdown",
   "id": "8f11d300",
   "metadata": {},
   "source": [
    "# Sudoku Puzzle"
   ]
  },
  {
   "cell_type": "code",
   "execution_count": 385,
   "id": "d3a924e3",
   "metadata": {},
   "outputs": [],
   "source": [
    "easy1 = '..3.2.6..9..3.5..1..18.64....81.29..7.......8..67.82....26.95..8..2.3..9..5.1.3..'\n",
    "harder1 = '417369805030000000000700000020000060000080400000010000000603070500200000104000000'"
   ]
  },
  {
   "cell_type": "code",
   "execution_count": 386,
   "id": "314ea630",
   "metadata": {},
   "outputs": [],
   "source": [
    "grid1 = string_to_grid(easy1)\n",
    "grid2 = string_to_grid(harder1)"
   ]
  },
  {
   "cell_type": "code",
   "execution_count": 387,
   "id": "3a58604d",
   "metadata": {},
   "outputs": [
    {
     "data": {
      "text/plain": [
       "[[[[0, 0, 3], [0, 2, 0], [6, 0, 0]],\n",
       "  [[9, 0, 0], [3, 0, 5], [0, 0, 1]],\n",
       "  [[0, 0, 1], [8, 0, 6], [4, 0, 0]]],\n",
       " [[[0, 0, 8], [1, 0, 2], [9, 0, 0]],\n",
       "  [[7, 0, 0], [0, 0, 0], [0, 0, 8]],\n",
       "  [[0, 0, 6], [7, 0, 8], [2, 0, 0]]],\n",
       " [[[0, 0, 2], [6, 0, 9], [5, 0, 0]],\n",
       "  [[8, 0, 0], [2, 0, 3], [0, 0, 9]],\n",
       "  [[0, 0, 5], [0, 1, 0], [3, 0, 0]]]]"
      ]
     },
     "execution_count": 387,
     "metadata": {},
     "output_type": "execute_result"
    }
   ],
   "source": [
    "grid1"
   ]
  },
  {
   "cell_type": "markdown",
   "id": "f2e29129",
   "metadata": {},
   "source": [
    "# Backtracking Algorithm"
   ]
  },
  {
   "cell_type": "code",
   "execution_count": 305,
   "id": "b4fe655a",
   "metadata": {},
   "outputs": [
    {
     "name": "stdout",
     "output_type": "stream",
     "text": [
      "cell assignments:  59\n",
      "num of backtracks:  10\n"
     ]
    }
   ],
   "source": [
    "backtracking_grid1 = backtracking(grid1)"
   ]
  },
  {
   "cell_type": "code",
   "execution_count": 306,
   "id": "1c135281",
   "metadata": {},
   "outputs": [
    {
     "name": "stdout",
     "output_type": "stream",
     "text": [
      "cell assignments:  74\n",
      "num of backtracks:  15\n"
     ]
    }
   ],
   "source": [
    "backtracking_grid2 = backtracking(grid2)"
   ]
  },
  {
   "cell_type": "code",
   "execution_count": 307,
   "id": "6dc6b69a",
   "metadata": {},
   "outputs": [
    {
     "data": {
      "text/plain": [
       "[[[[4, 8, 3], [9, 2, 1], [6, 5, 7]],\n",
       "  [[9, 6, 7], [3, 4, 5], [8, 2, 1]],\n",
       "  [[2, 5, 1], [8, 7, 6], [4, 9, 3]]],\n",
       " [[[5, 4, 8], [1, 3, 2], [9, 7, 6]],\n",
       "  [[7, 2, 9], [5, 6, 4], [1, 3, 8]],\n",
       "  [[1, 3, 6], [7, 9, 8], [2, 4, 5]]],\n",
       " [[[3, 7, 2], [6, 8, 9], [5, 1, 4]],\n",
       "  [[8, 1, 4], [2, 5, 3], [7, 6, 9]],\n",
       "  [[6, 9, 5], [4, 1, 7], [3, 8, 2]]]]"
      ]
     },
     "execution_count": 307,
     "metadata": {},
     "output_type": "execute_result"
    }
   ],
   "source": [
    "backtracking_grid1"
   ]
  },
  {
   "cell_type": "code",
   "execution_count": 293,
   "id": "62cc1da4",
   "metadata": {},
   "outputs": [
    {
     "name": "stdout",
     "output_type": "stream",
     "text": [
      "cell assignments:  74\n",
      "num of backtracks:  15\n"
     ]
    }
   ],
   "source": [
    "backtracking_grid2 = backtracking(grid2)"
   ]
  },
  {
   "cell_type": "code",
   "execution_count": 308,
   "id": "3fcf56dc",
   "metadata": {},
   "outputs": [
    {
     "data": {
      "text/plain": [
       "[[[[4, 1, 7], [3, 6, 9], [8, 2, 5]],\n",
       "  [[6, 3, 2], [1, 5, 8], [9, 4, 7]],\n",
       "  [[9, 5, 8], [7, 2, 4], [3, 1, 6]]],\n",
       " [[[8, 2, 5], [4, 3, 7], [1, 6, 9]],\n",
       "  [[7, 9, 1], [5, 8, 6], [4, 3, 2]],\n",
       "  [[3, 4, 6], [9, 1, 2], [7, 5, 8]]],\n",
       " [[[2, 8, 9], [6, 4, 3], [5, 7, 1]],\n",
       "  [[5, 7, 3], [2, 9, 1], [6, 8, 4]],\n",
       "  [[1, 6, 4], [8, 7, 5], [2, 9, 3]]]]"
      ]
     },
     "execution_count": 308,
     "metadata": {},
     "output_type": "execute_result"
    }
   ],
   "source": [
    "backtracking_grid2"
   ]
  },
  {
   "cell_type": "markdown",
   "id": "d9b04099",
   "metadata": {},
   "source": [
    "# AC-3 Algorithm"
   ]
  },
  {
   "cell_type": "code",
   "execution_count": 393,
   "id": "9dd515b5",
   "metadata": {},
   "outputs": [
    {
     "name": "stdout",
     "output_type": "stream",
     "text": [
      "loop\n"
     ]
    },
    {
     "data": {
      "text/plain": [
       "[[[[4, 4, 3], [4, 2, 1], [6, 5, 5]],\n",
       "  [[9, 2, 4], [3, 4, 5], [7, 2, 1]],\n",
       "  [[2, 2, 1], [8, 7, 6], [4, 2, 2]]],\n",
       " [[[3, 3, 8], [1, 3, 2], [9, 3, 3]],\n",
       "  [[7, 1, 4], [4, 3, 4], [1, 1, 8]],\n",
       "  [[1, 1, 6], [7, 3, 8], [2, 3, 3]]],\n",
       " [[[1, 1, 2], [6, 4, 9], [5, 1, 4]],\n",
       "  [[8, 1, 4], [2, 5, 3], [1, 1, 9]],\n",
       "  [[4, 4, 5], [4, 1, 4], [3, 2, 2]]]]"
      ]
     },
     "execution_count": 393,
     "metadata": {},
     "output_type": "execute_result"
    }
   ],
   "source": [
    "constraints = create_constraints()\n",
    "domains = create_domains(grid1)\n",
    "ac3 = ac3(constraints, domains)\n",
    "domain_to_grid(ac3)"
   ]
  },
  {
   "cell_type": "code",
   "execution_count": 391,
   "id": "e6c54684",
   "metadata": {},
   "outputs": [
    {
     "data": {
      "text/plain": [
       "{'(0, 0)': {4, 5},\n",
       " '(0, 1)': {4, 5, 7, 8},\n",
       " '(0, 2)': {3},\n",
       " '(0, 3)': {4, 9},\n",
       " '(0, 4)': {2},\n",
       " '(0, 5)': {1, 4, 7},\n",
       " '(0, 6)': {6},\n",
       " '(0, 7)': {5, 7, 8, 9},\n",
       " '(0, 8)': {5, 7},\n",
       " '(1, 0)': {9},\n",
       " '(1, 1)': {2, 4, 6, 7, 8},\n",
       " '(1, 2)': {4, 7},\n",
       " '(1, 3)': {3},\n",
       " '(1, 4)': {4, 7},\n",
       " '(1, 5)': {5},\n",
       " '(1, 6)': {7, 8},\n",
       " '(1, 7)': {2, 7, 8},\n",
       " '(1, 8)': {1},\n",
       " '(2, 0)': {2, 5},\n",
       " '(2, 1)': {2, 5, 7},\n",
       " '(2, 2)': {1},\n",
       " '(2, 3)': {8},\n",
       " '(2, 4)': {7, 9},\n",
       " '(2, 5)': {6},\n",
       " '(2, 6)': {4},\n",
       " '(2, 7)': {2, 3, 5, 7, 9},\n",
       " '(2, 8)': {2, 3, 5, 7},\n",
       " '(3, 0)': {3, 4, 5},\n",
       " '(3, 1)': {3, 4, 5},\n",
       " '(3, 2)': {8},\n",
       " '(3, 3)': {1},\n",
       " '(3, 4)': {3, 5, 6},\n",
       " '(3, 5)': {2},\n",
       " '(3, 6)': {9},\n",
       " '(3, 7)': {3, 4, 5, 6, 7},\n",
       " '(3, 8)': {3, 4, 5, 6, 7},\n",
       " '(4, 0)': {7},\n",
       " '(4, 1)': {1, 2, 3, 4, 5, 9},\n",
       " '(4, 2)': {4, 9},\n",
       " '(4, 3)': {4, 5, 9},\n",
       " '(4, 4)': {3, 4, 5, 6, 9},\n",
       " '(4, 5)': {4},\n",
       " '(4, 6)': {1},\n",
       " '(4, 7)': {1, 3, 4, 5, 6},\n",
       " '(4, 8)': {8},\n",
       " '(5, 0)': {1, 3, 4, 5},\n",
       " '(5, 1)': {1, 3, 4, 5, 9},\n",
       " '(5, 2)': {6},\n",
       " '(5, 3)': {7},\n",
       " '(5, 4)': {3, 5, 9},\n",
       " '(5, 5)': {8},\n",
       " '(5, 6)': {2},\n",
       " '(5, 7)': {3, 4, 5},\n",
       " '(5, 8)': {3, 4, 5},\n",
       " '(6, 0)': {1, 3, 4},\n",
       " '(6, 1)': {1, 3, 4, 7},\n",
       " '(6, 2)': {2},\n",
       " '(6, 3)': {6},\n",
       " '(6, 4)': {4, 7, 8},\n",
       " '(6, 5)': {9},\n",
       " '(6, 6)': {5},\n",
       " '(6, 7)': {1, 4, 7, 8},\n",
       " '(6, 8)': {4, 7},\n",
       " '(7, 0)': {8},\n",
       " '(7, 1)': {1, 4, 6, 7},\n",
       " '(7, 2)': {4, 7},\n",
       " '(7, 3)': {2},\n",
       " '(7, 4)': {5, 7},\n",
       " '(7, 5)': {3},\n",
       " '(7, 6)': {1, 7},\n",
       " '(7, 7)': {1, 4, 6, 7},\n",
       " '(7, 8)': {9},\n",
       " '(8, 0)': {4, 6},\n",
       " '(8, 1)': {4, 6, 7, 9},\n",
       " '(8, 2)': {5},\n",
       " '(8, 3)': {4},\n",
       " '(8, 4)': {1},\n",
       " '(8, 5)': {4, 7},\n",
       " '(8, 6)': {3},\n",
       " '(8, 7)': {2, 4, 6, 7, 8},\n",
       " '(8, 8)': {2, 4, 6, 7}}"
      ]
     },
     "execution_count": 391,
     "metadata": {},
     "output_type": "execute_result"
    }
   ],
   "source": [
    "ac3"
   ]
  },
  {
   "cell_type": "code",
   "execution_count": 337,
   "id": "a687d60c",
   "metadata": {},
   "outputs": [
    {
     "data": {
      "text/plain": [
       "[[[[0, 0, 3], [0, 2, 0], [6, 0, 0]],\n",
       "  [[9, 0, 0], [3, 0, 5], [0, 0, 1]],\n",
       "  [[0, 0, 1], [8, 0, 6], [4, 0, 0]]],\n",
       " [[[0, 0, 8], [1, 0, 2], [9, 0, 0]],\n",
       "  [[7, 0, 0], [0, 0, 0], [0, 0, 8]],\n",
       "  [[0, 0, 6], [7, 0, 8], [2, 0, 0]]],\n",
       " [[[0, 0, 2], [6, 0, 9], [5, 0, 0]],\n",
       "  [[8, 0, 0], [2, 0, 3], [0, 0, 9]],\n",
       "  [[0, 0, 5], [0, 1, 0], [3, 0, 0]]]]"
      ]
     },
     "execution_count": 337,
     "metadata": {},
     "output_type": "execute_result"
    }
   ],
   "source": [
    "grid1"
   ]
  },
  {
   "cell_type": "code",
   "execution_count": null,
   "id": "194060b9",
   "metadata": {},
   "outputs": [],
   "source": []
  },
  {
   "cell_type": "code",
   "execution_count": null,
   "id": "0c26d548",
   "metadata": {},
   "outputs": [],
   "source": []
  },
  {
   "cell_type": "code",
   "execution_count": null,
   "id": "dea5fd78",
   "metadata": {},
   "outputs": [],
   "source": []
  },
  {
   "cell_type": "code",
   "execution_count": null,
   "id": "58532256",
   "metadata": {},
   "outputs": [],
   "source": []
  },
  {
   "cell_type": "code",
   "execution_count": null,
   "id": "c86757e7",
   "metadata": {},
   "outputs": [],
   "source": []
  }
 ],
 "metadata": {
  "kernelspec": {
   "display_name": "Python 3 (ipykernel)",
   "language": "python",
   "name": "python3"
  },
  "language_info": {
   "codemirror_mode": {
    "name": "ipython",
    "version": 3
   },
   "file_extension": ".py",
   "mimetype": "text/x-python",
   "name": "python",
   "nbconvert_exporter": "python",
   "pygments_lexer": "ipython3",
   "version": "3.8.16"
  }
 },
 "nbformat": 4,
 "nbformat_minor": 5
}
