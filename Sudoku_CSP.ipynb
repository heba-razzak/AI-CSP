{
 "cells": [
  {
   "cell_type": "markdown",
   "id": "3fdf414d",
   "metadata": {},
   "source": [
    "### Backtracking algorithm"
   ]
  },
  {
   "cell_type": "code",
   "execution_count": 570,
   "id": "5ba707b1",
   "metadata": {},
   "outputs": [],
   "source": [
    "# function used in AIMA book code\n",
    "def flatten(seqs):\n",
    "    return sum(seqs, [])"
   ]
  },
  {
   "cell_type": "code",
   "execution_count": 571,
   "id": "12ff1fae",
   "metadata": {},
   "outputs": [],
   "source": [
    "def is_valid(grid, row, col, num):\n",
    "    # create lists for rows, cols, boxes\n",
    "    rows = flatten([list(map(flatten, brow)) for brow in grid])\n",
    "    cols = [list(col) for col in zip(*rows)]\n",
    "    boxes = flatten([list(map(flatten, zip(*brow))) for brow in grid])\n",
    "    # create box index\n",
    "    # (3 x row block number) + column block number\n",
    "    # block: 3 rows or cols together\n",
    "    box = (3*(row//3))+(col//3)\n",
    "    # check if num is already used in the row\n",
    "    for i in range(9):\n",
    "        if rows[row][i] == num:\n",
    "            return False\n",
    "    # check if num is already used in the column\n",
    "    for i in range(9):\n",
    "        if cols[col][i] == num:\n",
    "            return False\n",
    "    # check if num is already used in the 3x3 box\n",
    "    for i in range(9):\n",
    "        if boxes[box][i] == num:\n",
    "            return False\n",
    "    return True"
   ]
  },
  {
   "cell_type": "code",
   "execution_count": 572,
   "id": "cc51a6da",
   "metadata": {},
   "outputs": [],
   "source": [
    "def find_empty_space(grid):\n",
    "    # create list of rows\n",
    "    rows = flatten([list(map(flatten, brow)) for brow in grid])\n",
    "    # for each row and col if cell = 0 return cell coordinates\n",
    "    for row in range(9):\n",
    "        for col in range(9):\n",
    "            if rows[row][col] == 0:\n",
    "                return row, col\n",
    "    return None"
   ]
  },
  {
   "cell_type": "code",
   "execution_count": 573,
   "id": "e160c5fb",
   "metadata": {},
   "outputs": [],
   "source": [
    "def backtracking(grid, counter=0, backtrack_counter=0):\n",
    "    # find first empty cell\n",
    "    empty_cell = find_empty_space(grid)\n",
    "    # if there are no empty cells left, the puzzle is solved\n",
    "    if empty_cell is None:  \n",
    "        print('cell assignments: ',counter)\n",
    "        print('num of backtracks: ',backtrack_counter)\n",
    "        return grid\n",
    "    else:\n",
    "        # coordinates of empty cell\n",
    "        row, col = empty_cell\n",
    "        # find row and col block of empty cell\n",
    "        row_block = row // 3\n",
    "        col_block = col // 3\n",
    "        # for each number in domain (1-9)\n",
    "        for num in range(1, 10):\n",
    "            # if the number fits in coordinates\n",
    "            if is_valid(grid, row, col, num):\n",
    "                # cell = num\n",
    "                counter += 1\n",
    "                grid[row_block][row % 3][col_block][col % 3] = num\n",
    "                # recursively call solve with the updated grid\n",
    "                result = backtracking(grid, counter, backtrack_counter)\n",
    "                if result is not None:\n",
    "                    return result\n",
    "                # if not valid (backtrack) set cell to 0\n",
    "                grid[row_block][row % 3][col_block][col % 3] = 0\n",
    "                backtrack_counter += 1\n",
    "    # if no solution is found return none -> goes to above line (set cell to 0)\n",
    "    return None"
   ]
  },
  {
   "cell_type": "code",
   "execution_count": 574,
   "id": "143159af",
   "metadata": {},
   "outputs": [],
   "source": [
    "# to convert input string into grid\n",
    "def string_to_grid(puzzle_str):\n",
    "    # empty grid to fill in \n",
    "    grid = [\n",
    "        [[[0,0,0],[0,0,0],[0,0,0]],\n",
    "        [[0,0,0],[0,0,0],[0,0,0]],\n",
    "        [[0,0,0],[0,0,0],[0,0,0]]],\n",
    "        [[[0,0,0],[0,0,0],[0,0,0]],\n",
    "        [[0,0,0],[0,0,0],[0,0,0]],\n",
    "        [[0,0,0],[0,0,0],[0,0,0]]],\n",
    "        [[[0,0,0],[0,0,0],[0,0,0]],\n",
    "        [[0,0,0],[0,0,0],[0,0,0]],\n",
    "        [[0,0,0],[0,0,0],[0,0,0]]]]\n",
    "\n",
    "    for rowblock in range(3):\n",
    "        for row in range(3):\n",
    "            for triple in range(3):\n",
    "                for cell in range(3):\n",
    "                    rown = (rowblock*3)+row\n",
    "                    coln = (triple*3)+cell\n",
    "                    celln = rown*9+coln\n",
    "                    value = puzzle_str[celln]\n",
    "                    if value == '.':\n",
    "                        value = 0\n",
    "                    else:\n",
    "                        value = int(value)\n",
    "                    grid[rowblock][row][triple][cell] = value\n",
    "    return grid"
   ]
  },
  {
   "cell_type": "markdown",
   "id": "e093c00e",
   "metadata": {},
   "source": [
    "### AC-3 algorithm"
   ]
  },
  {
   "cell_type": "code",
   "execution_count": 575,
   "id": "dd147f49",
   "metadata": {},
   "outputs": [],
   "source": [
    "def create_grid():\n",
    "    # create sudoku grid with coordinates\n",
    "    coords = []\n",
    "    for r in range(9):\n",
    "        for c in range(9):\n",
    "            coords += [(r,c)]\n",
    "\n",
    "    coord_grid = [\n",
    "        [[[0,0,0],[0,0,0],[0,0,0]],\n",
    "        [[0,0,0],[0,0,0],[0,0,0]],\n",
    "        [[0,0,0],[0,0,0],[0,0,0]]],\n",
    "        [[[0,0,0],[0,0,0],[0,0,0]],\n",
    "        [[0,0,0],[0,0,0],[0,0,0]],\n",
    "        [[0,0,0],[0,0,0],[0,0,0]]],\n",
    "        [[[0,0,0],[0,0,0],[0,0,0]],\n",
    "        [[0,0,0],[0,0,0],[0,0,0]],\n",
    "        [[0,0,0],[0,0,0],[0,0,0]]]]\n",
    "\n",
    "    for rowblock in range(3):\n",
    "        for row in range(3):\n",
    "            for triple in range(3):\n",
    "                for cell in range(3):\n",
    "                    rown = (rowblock*3)+row\n",
    "                    coln = (triple*3)+cell\n",
    "                    celln = rown*9+coln\n",
    "                    coord_grid[rowblock][row][triple][cell] = coords[celln]\n",
    "    return coord_grid"
   ]
  },
  {
   "cell_type": "code",
   "execution_count": 576,
   "id": "11e8bf47",
   "metadata": {},
   "outputs": [],
   "source": [
    "def create_constraints():\n",
    "    # creates list of basic sudoku constraints\n",
    "    # all cells in same rows must be different\n",
    "    # all cells in same columns must be different\n",
    "    # all cells in same boxes must be different\n",
    "    \n",
    "    coord_grid = create_grid()\n",
    "\n",
    "    # create lists for rows, cols, boxes\n",
    "    rows_coord = flatten([list(map(flatten, brow)) for brow in coord_grid])\n",
    "    cols_coord = [list(col) for col in zip(*rows_coord)]\n",
    "    boxes_coord = flatten([list(map(flatten, zip(*brow))) for brow in coord_grid])\n",
    "\n",
    "    # create constraints\n",
    "    \n",
    "    row_constraints = {}\n",
    "    for row in rows_coord:\n",
    "        for i in range(9):\n",
    "            for j in range(i+1, 9):\n",
    "                coord1 = f\"{row[i]}\"\n",
    "                coord2 = f\"{row[j]}\"\n",
    "                row_constraints[(coord1, coord2)] = lambda x, y: x != y\n",
    "#                 row_constraints[(coord2, coord1)] = lambda x, y: x != y\n",
    "\n",
    "    col_constraints = {}\n",
    "    for col in cols_coord:\n",
    "        for i in range(9):\n",
    "            for j in range(i+1, 9):\n",
    "                coord1 = f\"{col[i]}\"\n",
    "                coord2 = f\"{col[j]}\"\n",
    "                col_constraints[(coord1, coord2)] = lambda x, y: x != y\n",
    "#                 col_constraints[(coord2, coord1)] = lambda x, y: x != y\n",
    "\n",
    "\n",
    "    box_constraints = {}\n",
    "    for box in boxes_coord:\n",
    "        for i in range(9):\n",
    "            for j in range(i+1, 9):\n",
    "                coord1 = f\"{box[i]}\"\n",
    "                coord2 = f\"{box[j]}\"\n",
    "                box_constraints[(coord1, coord2)] = lambda x, y: x != y\n",
    "#                 box_constraints[(coord2, coord1)] = lambda x, y: x != y\n",
    "\n",
    "    constraints = {}\n",
    "    constraints.update(row_constraints)\n",
    "    constraints.update(col_constraints)\n",
    "    constraints.update(box_constraints)\n",
    "    return constraints"
   ]
  },
  {
   "cell_type": "code",
   "execution_count": 577,
   "id": "9c5dca60",
   "metadata": {},
   "outputs": [],
   "source": [
    "def reverse_tuple(tuples):\n",
    "    new_tup = tuples[::-1]\n",
    "    return new_tup"
   ]
  },
  {
   "cell_type": "code",
   "execution_count": 578,
   "id": "a9d50417",
   "metadata": {},
   "outputs": [],
   "source": [
    "def create_domains(grid):\n",
    "    # create domains for all cells\n",
    "    # any empty cell will have a domain of 1,2,3,4,5,6,7,8,9\n",
    "    # any cell that has a value will have a domain of that value\n",
    "    domains = {}\n",
    "    rows = flatten([list(map(flatten, brow)) for brow in grid])\n",
    "\n",
    "    for ir, r in enumerate(rows):\n",
    "        for ic, value in enumerate(r):\n",
    "            if value == 0:\n",
    "                coord = f\"({ir}, {ic})\"\n",
    "                domains[coord] = {1, 2, 3, 4, 5, 6, 7, 8, 9}\n",
    "            else:\n",
    "                coord = f\"({ir}, {ic})\"\n",
    "                domains[coord] = {value}\n",
    "    return domains"
   ]
  },
  {
   "cell_type": "code",
   "execution_count": 579,
   "id": "aee75542",
   "metadata": {},
   "outputs": [],
   "source": [
    "# AC-3\n",
    "# 1. Turn each constraint into 2 ex: (A!= B) & (B != A)\n",
    "# 2. Add all arcs to agenda (included in constraints)\n",
    "# 3. Repeat below until agenda (constraints) is empty\n",
    "# - take an arc (xi,xj) off the agenda and check it\n",
    "# - for EVERY value of xi there must be ANY value of xj that satisfies it\n",
    "# - remove any inconsistent value from xi\n",
    "# - if xi has changed add all arcs of the form (xk,xi) to the agenda\n",
    "\n",
    "def ac3(constraints, domains):\n",
    "    full_constraints = constraints.copy()\n",
    "    # create dict with reverse constraints\n",
    "    reverse_constraints = {reverse_tuple(key): value for key, value in full_constraints.items()}\n",
    "    # update constraints with reverse_constraints\n",
    "    full_constraints.update(reverse_constraints)\n",
    "    # to avoid changing original constraints and domains make a copy\n",
    "    c = full_constraints.copy()\n",
    "    d = domains.copy()\n",
    "    while c:\n",
    "        # (xi,xj) first pair of coordinates from constraints\n",
    "        (xi,xj) = list(c.keys())[0]\n",
    "        # pops the constraint function related to those coordinates\n",
    "        f = c.pop((xi,xj)) \n",
    "        # for EVERY value of xi there must be ANY value of xj that satisfies it\n",
    "        for x in d[xi].copy():\n",
    "            if not any(f(x, y) for y in d[xj]):\n",
    "                # if there is no value xj that satisfies any x from xi, remove x from domain of xi\n",
    "                d[xi].remove(x)\n",
    "                # if xi has changed all any constraints of the form (xk,xi)\n",
    "                # match original constraints where xi is the second element of the coordinates\n",
    "                add_constraints_keys = list(filter(lambda k: k[1] == xi, full_constraints.keys()))\n",
    "                # create dict with constraints we need to add back\n",
    "                add_constraints = {key: value for key, value in full_constraints.items() if key in add_constraints_keys}\n",
    "                # update c with add_constraints\n",
    "                c.update(add_constraints)\n",
    "    return d"
   ]
  },
  {
   "cell_type": "code",
   "execution_count": 580,
   "id": "87206ef8",
   "metadata": {},
   "outputs": [],
   "source": [
    "def domain_to_grid(ac3):\n",
    "    coord_grid = create_grid()\n",
    "    for i in range(3):\n",
    "        for j in range(len(coord_grid[i])):\n",
    "            for k in range(len(coord_grid[i][j])):\n",
    "                for z in range(len(coord_grid[i][j][k])):\n",
    "                    coord = coord_grid[i][j][k][z]\n",
    "                    value = ac3[str(coord)] # domain of coordinate\n",
    "                    coord_grid[i][j][k][z] = list(value)[0] # first item in domain\n",
    "    return coord_grid"
   ]
  },
  {
   "cell_type": "markdown",
   "id": "74783c51",
   "metadata": {},
   "source": [
    "### Local Search algorithm"
   ]
  },
  {
   "cell_type": "markdown",
   "id": "1cbe7a55",
   "metadata": {},
   "source": [
    "function MIN-CONFLICTS(csp,max steps) returns a solution or failure\n",
    "    inputs: \n",
    "        csp, a constraint satisfaction problem\n",
    "        max_steps, the number of steps allowed before giving up\n",
    "        \n",
    "    current ← an initial complete assignment \n",
    "    for i =1 to max_steps do\n",
    "        if current is a solution for csp then return current\n",
    "        var ← a randomly chosen conflicted variable from csp.VARIABLES\n",
    "        value ←the value v for var that minimizes CONFLICTS(var,v,current,csp) \n",
    "        set var = value in current\n",
    "    return failure\n",
    "\n",
    "The MIN-CONFLICTS algorithm for solving CSPs by local search. The initial state may be chosen randomly or by a greedy assignment process that chooses a minimal- conflict value for each variable in turn. The C O N FL I C T S function counts the number of constraints violated by a particular value, given the rest of the current assignment."
   ]
  },
  {
   "cell_type": "code",
   "execution_count": null,
   "id": "f90459c2",
   "metadata": {},
   "outputs": [],
   "source": [
    "# fill grid with random values"
   ]
  },
  {
   "cell_type": "code",
   "execution_count": 558,
   "id": "f30e3a68",
   "metadata": {},
   "outputs": [
    {
     "data": {
      "text/plain": [
       "<function __main__.create_constraints.<locals>.<lambda>(x, y)>"
      ]
     },
     "execution_count": 558,
     "metadata": {},
     "output_type": "execute_result"
    }
   ],
   "source": [
    "constraints[('(0, 0)','(0, 1)')]"
   ]
  },
  {
   "cell_type": "code",
   "execution_count": null,
   "id": "26428d8c",
   "metadata": {},
   "outputs": [],
   "source": [
    "# book code\n",
    "def min_conflicts(csp, max_steps=100000):\n",
    "    \"\"\"Solve a CSP by stochastic Hill Climbing on the number of conflicts.\"\"\"\n",
    "    # Generate a complete assignment for all variables (probably with conflicts)\n",
    "    csp.current = current = {}\n",
    "    for var in csp.variables:\n",
    "        val = min_conflicts_value(csp, var, current)\n",
    "        csp.assign(var, val, current)\n",
    "    # Now repeatedly choose a random conflicted variable and change it\n",
    "    for i in range(max_steps):\n",
    "        conflicted = csp.conflicted_vars(current)\n",
    "        if not conflicted:\n",
    "            return current\n",
    "        var = random.choice(conflicted)\n",
    "        val = min_conflicts_value(csp, var, current)\n",
    "        csp.assign(var, val, current)\n",
    "    return None\n",
    "def min_conflicts_value(csp, var, current):\n",
    "    \"\"\"Return the value that will give var the least number of conflicts.\n",
    "    If there is a tie, choose at random.\"\"\"\n",
    "    return argmin_random_tie(csp.domains[var], key=lambda val: csp.nconflicts(var, val, current))\n",
    "\n",
    "def nconflicts(self, var, val, assignment):\n",
    "        \"\"\"The number of conflicts, as recorded with each assignment.\n",
    "        Count conflicts in row and in up, down diagonals. If there\n",
    "        is a queen there, it can't conflict with itself, so subtract 3.\"\"\"\n",
    "        n = len(self.variables)\n",
    "        c = self.rows[val] + self.downs[var + val] + self.ups[var - val + n - 1]\n",
    "        if assignment.get(var, None) == val:\n",
    "            c -= 3\n",
    "        return c\n"
   ]
  },
  {
   "cell_type": "markdown",
   "id": "d19439cc",
   "metadata": {},
   "source": [
    "# Sudoku Puzzle"
   ]
  },
  {
   "cell_type": "code",
   "execution_count": 551,
   "id": "d3a924e3",
   "metadata": {},
   "outputs": [],
   "source": [
    "easy1 = '..3.2.6..9..3.5..1..18.64....81.29..7.......8..67.82....26.95..8..2.3..9..5.1.3..'\n",
    "harder1 = '417369805030000000000700000020000060000080400000010000000603070500200000104000000'"
   ]
  },
  {
   "cell_type": "code",
   "execution_count": 552,
   "id": "314ea630",
   "metadata": {},
   "outputs": [],
   "source": [
    "grid1 = string_to_grid(easy1)\n",
    "grid2 = string_to_grid(harder1)"
   ]
  },
  {
   "cell_type": "code",
   "execution_count": 553,
   "id": "ef99738d",
   "metadata": {},
   "outputs": [
    {
     "data": {
      "text/plain": [
       "[[[[0, 0, 3], [0, 2, 0], [6, 0, 0]],\n",
       "  [[9, 0, 0], [3, 0, 5], [0, 0, 1]],\n",
       "  [[0, 0, 1], [8, 0, 6], [4, 0, 0]]],\n",
       " [[[0, 0, 8], [1, 0, 2], [9, 0, 0]],\n",
       "  [[7, 0, 0], [0, 0, 0], [0, 0, 8]],\n",
       "  [[0, 0, 6], [7, 0, 8], [2, 0, 0]]],\n",
       " [[[0, 0, 2], [6, 0, 9], [5, 0, 0]],\n",
       "  [[8, 0, 0], [2, 0, 3], [0, 0, 9]],\n",
       "  [[0, 0, 5], [0, 1, 0], [3, 0, 0]]]]"
      ]
     },
     "execution_count": 553,
     "metadata": {},
     "output_type": "execute_result"
    }
   ],
   "source": [
    "grid1"
   ]
  },
  {
   "cell_type": "code",
   "execution_count": 554,
   "id": "a326282d",
   "metadata": {},
   "outputs": [
    {
     "data": {
      "text/plain": [
       "[[[[4, 1, 7], [3, 6, 9], [8, 0, 5]],\n",
       "  [[0, 3, 0], [0, 0, 0], [0, 0, 0]],\n",
       "  [[0, 0, 0], [7, 0, 0], [0, 0, 0]]],\n",
       " [[[0, 2, 0], [0, 0, 0], [0, 6, 0]],\n",
       "  [[0, 0, 0], [0, 8, 0], [4, 0, 0]],\n",
       "  [[0, 0, 0], [0, 1, 0], [0, 0, 0]]],\n",
       " [[[0, 0, 0], [6, 0, 3], [0, 7, 0]],\n",
       "  [[5, 0, 0], [2, 0, 0], [0, 0, 0]],\n",
       "  [[1, 0, 4], [0, 0, 0], [0, 0, 0]]]]"
      ]
     },
     "execution_count": 554,
     "metadata": {},
     "output_type": "execute_result"
    }
   ],
   "source": [
    "grid2"
   ]
  },
  {
   "cell_type": "markdown",
   "id": "c91ba646",
   "metadata": {},
   "source": [
    "# Backtracking Algorithm"
   ]
  },
  {
   "cell_type": "code",
   "execution_count": 305,
   "id": "b4fe655a",
   "metadata": {},
   "outputs": [
    {
     "name": "stdout",
     "output_type": "stream",
     "text": [
      "cell assignments:  59\n",
      "num of backtracks:  10\n"
     ]
    }
   ],
   "source": [
    "backtracking_grid1 = backtracking(grid1)"
   ]
  },
  {
   "cell_type": "code",
   "execution_count": 306,
   "id": "322cd8c3",
   "metadata": {},
   "outputs": [
    {
     "name": "stdout",
     "output_type": "stream",
     "text": [
      "cell assignments:  74\n",
      "num of backtracks:  15\n"
     ]
    }
   ],
   "source": [
    "backtracking_grid2 = backtracking(grid2)"
   ]
  },
  {
   "cell_type": "code",
   "execution_count": 307,
   "id": "6dc6b69a",
   "metadata": {},
   "outputs": [
    {
     "data": {
      "text/plain": [
       "[[[[4, 8, 3], [9, 2, 1], [6, 5, 7]],\n",
       "  [[9, 6, 7], [3, 4, 5], [8, 2, 1]],\n",
       "  [[2, 5, 1], [8, 7, 6], [4, 9, 3]]],\n",
       " [[[5, 4, 8], [1, 3, 2], [9, 7, 6]],\n",
       "  [[7, 2, 9], [5, 6, 4], [1, 3, 8]],\n",
       "  [[1, 3, 6], [7, 9, 8], [2, 4, 5]]],\n",
       " [[[3, 7, 2], [6, 8, 9], [5, 1, 4]],\n",
       "  [[8, 1, 4], [2, 5, 3], [7, 6, 9]],\n",
       "  [[6, 9, 5], [4, 1, 7], [3, 8, 2]]]]"
      ]
     },
     "execution_count": 307,
     "metadata": {},
     "output_type": "execute_result"
    }
   ],
   "source": [
    "backtracking_grid1"
   ]
  },
  {
   "cell_type": "code",
   "execution_count": 293,
   "id": "62cc1da4",
   "metadata": {},
   "outputs": [
    {
     "name": "stdout",
     "output_type": "stream",
     "text": [
      "cell assignments:  74\n",
      "num of backtracks:  15\n"
     ]
    }
   ],
   "source": [
    "backtracking_grid2 = backtracking(grid2)"
   ]
  },
  {
   "cell_type": "code",
   "execution_count": 308,
   "id": "3fcf56dc",
   "metadata": {},
   "outputs": [
    {
     "data": {
      "text/plain": [
       "[[[[4, 1, 7], [3, 6, 9], [8, 2, 5]],\n",
       "  [[6, 3, 2], [1, 5, 8], [9, 4, 7]],\n",
       "  [[9, 5, 8], [7, 2, 4], [3, 1, 6]]],\n",
       " [[[8, 2, 5], [4, 3, 7], [1, 6, 9]],\n",
       "  [[7, 9, 1], [5, 8, 6], [4, 3, 2]],\n",
       "  [[3, 4, 6], [9, 1, 2], [7, 5, 8]]],\n",
       " [[[2, 8, 9], [6, 4, 3], [5, 7, 1]],\n",
       "  [[5, 7, 3], [2, 9, 1], [6, 8, 4]],\n",
       "  [[1, 6, 4], [8, 7, 5], [2, 9, 3]]]]"
      ]
     },
     "execution_count": 308,
     "metadata": {},
     "output_type": "execute_result"
    }
   ],
   "source": [
    "backtracking_grid2"
   ]
  },
  {
   "cell_type": "markdown",
   "id": "7b2feb7b",
   "metadata": {},
   "source": [
    "# AC-3 Algorithm"
   ]
  },
  {
   "cell_type": "code",
   "execution_count": 555,
   "id": "9dd515b5",
   "metadata": {
    "scrolled": true
   },
   "outputs": [
    {
     "data": {
      "text/plain": [
       "[[[[4, 8, 3], [9, 2, 1], [6, 5, 7]],\n",
       "  [[9, 6, 7], [3, 4, 5], [8, 2, 1]],\n",
       "  [[2, 5, 1], [8, 7, 6], [4, 9, 3]]],\n",
       " [[[5, 4, 8], [1, 3, 2], [9, 7, 6]],\n",
       "  [[7, 2, 9], [5, 6, 4], [1, 3, 8]],\n",
       "  [[1, 3, 6], [7, 9, 8], [2, 4, 5]]],\n",
       " [[[3, 7, 2], [6, 8, 9], [5, 1, 4]],\n",
       "  [[8, 1, 4], [2, 5, 3], [7, 6, 9]],\n",
       "  [[6, 9, 5], [4, 1, 7], [3, 8, 2]]]]"
      ]
     },
     "execution_count": 555,
     "metadata": {},
     "output_type": "execute_result"
    }
   ],
   "source": [
    "constraints = create_constraints()\n",
    "domains = create_domains(grid1)\n",
    "ac3 = ac3(constraints, domains)\n",
    "domain_to_grid(ac3)"
   ]
  },
  {
   "cell_type": "code",
   "execution_count": 533,
   "id": "4c20725f",
   "metadata": {},
   "outputs": [
    {
     "data": {
      "text/plain": [
       "[[[[0, 0, 3], [0, 2, 0], [6, 0, 0]],\n",
       "  [[9, 0, 0], [3, 0, 5], [0, 0, 1]],\n",
       "  [[0, 0, 1], [8, 0, 6], [4, 0, 0]]],\n",
       " [[[0, 0, 8], [1, 0, 2], [9, 0, 0]],\n",
       "  [[7, 0, 0], [0, 0, 0], [0, 0, 8]],\n",
       "  [[0, 0, 6], [7, 0, 8], [2, 0, 0]]],\n",
       " [[[0, 0, 2], [6, 0, 9], [5, 0, 0]],\n",
       "  [[8, 0, 0], [2, 0, 3], [0, 0, 9]],\n",
       "  [[0, 0, 5], [0, 1, 0], [3, 0, 0]]]]"
      ]
     },
     "execution_count": 533,
     "metadata": {},
     "output_type": "execute_result"
    }
   ],
   "source": [
    "grid1"
   ]
  },
  {
   "cell_type": "code",
   "execution_count": 535,
   "id": "5b7b904e",
   "metadata": {},
   "outputs": [
    {
     "ename": "TypeError",
     "evalue": "'dict' object is not callable",
     "output_type": "error",
     "traceback": [
      "\u001b[0;31m---------------------------------------------------------------------------\u001b[0m",
      "\u001b[0;31mTypeError\u001b[0m                                 Traceback (most recent call last)",
      "Cell \u001b[0;32mIn [535], line 1\u001b[0m\n\u001b[0;32m----> 1\u001b[0m ac3 \u001b[38;5;241m=\u001b[39m \u001b[43mac3\u001b[49m\u001b[43m(\u001b[49m\u001b[43mconstraints\u001b[49m\u001b[43m,\u001b[49m\u001b[43m \u001b[49m\u001b[43mdomains\u001b[49m\u001b[43m)\u001b[49m\n",
      "\u001b[0;31mTypeError\u001b[0m: 'dict' object is not callable"
     ]
    }
   ],
   "source": [
    "ac3 = ac3(constraints, domains)"
   ]
  },
  {
   "cell_type": "code",
   "execution_count": 517,
   "id": "aef62b7d",
   "metadata": {},
   "outputs": [
    {
     "ename": "TypeError",
     "evalue": "'dict' object is not callable",
     "output_type": "error",
     "traceback": [
      "\u001b[0;31m---------------------------------------------------------------------------\u001b[0m",
      "\u001b[0;31mTypeError\u001b[0m                                 Traceback (most recent call last)",
      "Cell \u001b[0;32mIn [517], line 3\u001b[0m\n\u001b[1;32m      1\u001b[0m constraints \u001b[38;5;241m=\u001b[39m create_constraints()\n\u001b[1;32m      2\u001b[0m domains \u001b[38;5;241m=\u001b[39m create_domains(grid2)\n\u001b[0;32m----> 3\u001b[0m ac3 \u001b[38;5;241m=\u001b[39m \u001b[43mac3\u001b[49m\u001b[43m(\u001b[49m\u001b[43mconstraints\u001b[49m\u001b[43m,\u001b[49m\u001b[43m \u001b[49m\u001b[43mdomains\u001b[49m\u001b[43m)\u001b[49m\n\u001b[1;32m      4\u001b[0m domain_to_grid(ac3)\n",
      "\u001b[0;31mTypeError\u001b[0m: 'dict' object is not callable"
     ]
    }
   ],
   "source": [
    "constraints = create_constraints()\n",
    "domains = create_domains(grid2)\n",
    "ac3 = ac3(constraints, domains)\n",
    "domain_to_grid(ac3)"
   ]
  },
  {
   "cell_type": "code",
   "execution_count": 472,
   "id": "4a953a6f",
   "metadata": {},
   "outputs": [
    {
     "data": {
      "text/plain": [
       "[[[[4, 1, 7], [3, 6, 9], [8, 0, 5]],\n",
       "  [[0, 3, 0], [0, 0, 0], [0, 0, 0]],\n",
       "  [[0, 0, 0], [7, 0, 0], [0, 0, 0]]],\n",
       " [[[0, 2, 0], [0, 0, 0], [0, 6, 0]],\n",
       "  [[0, 0, 0], [0, 8, 0], [4, 0, 0]],\n",
       "  [[0, 0, 0], [0, 1, 0], [0, 0, 0]]],\n",
       " [[[0, 0, 0], [6, 0, 3], [0, 7, 0]],\n",
       "  [[5, 0, 0], [2, 0, 0], [0, 0, 0]],\n",
       "  [[1, 0, 4], [0, 0, 0], [0, 0, 0]]]]"
      ]
     },
     "execution_count": 472,
     "metadata": {},
     "output_type": "execute_result"
    }
   ],
   "source": [
    "grid2"
   ]
  },
  {
   "cell_type": "code",
   "execution_count": null,
   "id": "0d654662",
   "metadata": {},
   "outputs": [],
   "source": []
  },
  {
   "cell_type": "code",
   "execution_count": null,
   "id": "c0a3fd9c",
   "metadata": {},
   "outputs": [],
   "source": []
  },
  {
   "cell_type": "code",
   "execution_count": null,
   "id": "aef9f24f",
   "metadata": {},
   "outputs": [],
   "source": []
  }
 ],
 "metadata": {
  "kernelspec": {
   "display_name": "Python 3 (ipykernel)",
   "language": "python",
   "name": "python3"
  },
  "language_info": {
   "codemirror_mode": {
    "name": "ipython",
    "version": 3
   },
   "file_extension": ".py",
   "mimetype": "text/x-python",
   "name": "python",
   "nbconvert_exporter": "python",
   "pygments_lexer": "ipython3",
   "version": "3.8.16"
  }
 },
 "nbformat": 4,
 "nbformat_minor": 5
}
